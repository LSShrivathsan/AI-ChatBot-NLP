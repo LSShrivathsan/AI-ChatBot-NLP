{
  "nbformat": 4,
  "nbformat_minor": 0,
  "metadata": {
    "colab": {
      "provenance": [],
      "authorship_tag": "ABX9TyOGcCborTyqrk3nXAlGsmcT",
      "include_colab_link": true
    },
    "kernelspec": {
      "name": "python3",
      "display_name": "Python 3"
    },
    "language_info": {
      "name": "python"
    }
  },
  "cells": [
    {
      "cell_type": "markdown",
      "metadata": {
        "id": "view-in-github",
        "colab_type": "text"
      },
      "source": [
        "<a href=\"https://colab.research.google.com/github/LSShrivathsan/AI-ChatBot-NLP/blob/main/custom_actions.ipynb\" target=\"_parent\"><img src=\"https://colab.research.google.com/assets/colab-badge.svg\" alt=\"Open In Colab\"/></a>"
      ]
    },
    {
      "cell_type": "code",
      "source": [
        "# Define custom actions based on user input\n",
        "def order_phone():\n",
        "    return \"Ordering your phone, boss...\"\n",
        "\n",
        "def latest_gadgets():\n",
        "    return \"The latest phones and gadgets available for purchase are...\"\n",
        "\n",
        "def order_smartwatch():\n",
        "    return \"Ordering a smartwatch...\"\n",
        "\n",
        "def order_laptop():\n",
        "    return \"Ordering a new laptop for work...\"\n",
        "\n",
        "def available_devices():\n",
        "    return \"The available devices in stock are...\"\n",
        "\n",
        "def purchase_console():\n",
        "    return \"Where would you like to purchase a gaming console?\"\n",
        "\n",
        "# Get user input\n",
        "user_input = input(\"Enter: \")\n",
        "\n",
        "# Define a dictionary mapping user input to custom actions\n",
        "custom_actions = {\n",
        "    \"order phone\": order_phone,\n",
        "    \"latest gadgets\": latest_gadgets,\n",
        "    \"order smartwatch\": order_smartwatch,\n",
        "    \"order laptop\": order_laptop,\n",
        "    \"available devices\": available_devices,\n",
        "    \"purchase console\": purchase_console,\n",
        "}\n",
        "\n",
        "# Check if the user input matches any defined action\n",
        "matched_action = None\n",
        "for keyword, action in custom_actions.items():\n",
        "    if keyword in user_input.lower():\n",
        "        matched_action = action\n",
        "        break\n",
        "\n",
        "# Perform the matched custom action or provide a response\n",
        "if matched_action:\n",
        "    response = matched_action()\n",
        "    print(\"Response:\", response)\n",
        "else:\n",
        "    print(\"No matching action found.\")\n"
      ],
      "metadata": {
        "colab": {
          "base_uri": "https://localhost:8080/"
        },
        "id": "GKjZlEsKc9gZ",
        "outputId": "6c586590-a90d-408e-cfa9-3c35b1fe84d2"
      },
      "execution_count": 10,
      "outputs": [
        {
          "output_type": "stream",
          "name": "stdout",
          "text": [
            "Enter: order phone\n",
            "Response: Ordering your phone, boss...\n"
          ]
        }
      ]
    }
  ]
}